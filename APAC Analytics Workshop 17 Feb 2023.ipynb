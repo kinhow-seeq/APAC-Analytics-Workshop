{
 "cells": [
  {
   "cell_type": "markdown",
   "id": "16d875fb",
   "metadata": {},
   "source": [
    "# APAC Analytics Workshop 17 Feb 2023"
   ]
  },
  {
   "cell_type": "markdown",
   "id": "9891d744",
   "metadata": {},
   "source": [
    "<b>Scenario: A user created a few tables to summarize the overall production of sites. The user presented the report to the site personnels and the site personnels hope that the significant figures of all tables can be standardized. Assist the user to update the number format of all tables in bulk using SDL.<b>"
   ]
  },
  {
   "cell_type": "markdown",
   "id": "bb24e42a",
   "metadata": {},
   "source": [
    "General Steps:\n",
    ">1. Get the workbook links.\n",
    ">2. Search for all items in the Table.\n",
    ">3. Import SDK.\n",
    ">4. Set the number format.\n",
    ">5. Update/post the number format."
   ]
  },
  {
   "cell_type": "code",
   "execution_count": null,
   "id": "90038213",
   "metadata": {},
   "outputs": [],
   "source": []
  }
 ],
 "metadata": {
  "kernelspec": {
   "display_name": "Python 3 (ipykernel)",
   "language": "python",
   "name": "python3"
  },
  "language_info": {
   "codemirror_mode": {
    "name": "ipython",
    "version": 3
   },
   "file_extension": ".py",
   "mimetype": "text/x-python",
   "name": "python",
   "nbconvert_exporter": "python",
   "pygments_lexer": "ipython3",
   "version": "3.8.14"
  }
 },
 "nbformat": 4,
 "nbformat_minor": 5
}
